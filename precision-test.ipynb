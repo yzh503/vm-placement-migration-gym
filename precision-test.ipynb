{
 "cells": [
  {
   "cell_type": "code",
   "execution_count": 1,
   "metadata": {},
   "outputs": [],
   "source": [
    "import torch, gymnasium\n",
    "from torch.distributions.categorical import Categorical\n",
    "import numpy as np\n",
    "from torch import nn\n",
    "\n",
    "def ortho_init(layer, scale=np.sqrt(2)):\n",
    "    nn.init.orthogonal_(layer.weight, gain=scale)\n",
    "    nn.init.constant_(layer.bias, 0)\n",
    "    return layer\n",
    "\n",
    "class MlpSeparate(nn.Module): \n",
    "    def __init__(self):\n",
    "        super(MlpSeparate, self).__init__()\n",
    "        self.action_nvec = torch.tensor([4,4,4,4])\n",
    "        hidden_size = 256\n",
    "        input_size = 16\n",
    "        self.critic = nn.Sequential(\n",
    "            ortho_init(nn.Linear(input_size, hidden_size)),\n",
    "            nn.Tanh(),\n",
    "            ortho_init(nn.Linear(hidden_size, hidden_size)),\n",
    "            nn.Tanh(),\n",
    "            ortho_init(nn.Linear(hidden_size, 1), scale=1)\n",
    "        )\n",
    "        self.actor = nn.Sequential(\n",
    "            ortho_init(nn.Linear(input_size, hidden_size)),\n",
    "            nn.Tanh(),\n",
    "            ortho_init(nn.Linear(hidden_size, hidden_size)),\n",
    "            nn.Tanh(),\n",
    "            ortho_init(nn.Linear(hidden_size, self.action_nvec.sum()), scale=0.01)\n",
    "        )\n",
    "\n",
    "    def get_value(self, obs):\n",
    "        return self.critic(obs)\n",
    "    \n",
    "    # mask is a boolean tensor with the same shape as your action space, where True indicates an invalid action.\n",
    "    def get_action(self, obs, action=None, mask=None):\n",
    "        print(' obs', obs)\n",
    "        logits = self.actor(obs)\n",
    "        if mask is not None:\n",
    "            assert mask.any(), mask\n",
    "            masks = mask.reshape(logits.shape).bool()\n",
    "            logits = torch.where(masks, logits, -1e8)\n",
    "        print(' logits', logits) \n",
    "        split_logits = torch.split(logits, self.action_nvec.tolist(), dim=1) # logits are slightly different \n",
    "        multi_dists = [Categorical(logits=logits) for logits in split_logits]\n",
    "        if action is None: \n",
    "            action = torch.tensor([dist.sample() for dist in multi_dists], device=obs.device)\n",
    "        logprob = torch.stack([dist.log_prob(a) for a, dist in zip(action.T, multi_dists)])\n",
    "        entropy = torch.stack([dist.entropy() for dist in multi_dists])\n",
    "        return action, logprob.sum(dim=0), entropy.sum(dim=0)\n",
    "    \n",
    "    def get_det_action(self, obs, action=None):\n",
    "        logits = self.actor(obs)\n",
    "        split_logits = torch.reshape(logits, (self.action_nvec.size, self.action_nvec[0]))\n",
    "        return torch.argmax(split_logits, dim=1)"
   ]
  },
  {
   "cell_type": "code",
   "execution_count": 41,
   "metadata": {},
   "outputs": [],
   "source": [
    "torch.set_default_dtype(torch.float64) "
   ]
  },
  {
   "cell_type": "code",
   "execution_count": 42,
   "metadata": {},
   "outputs": [
    {
     "data": {
      "text/plain": [
       "<All keys matched successfully>"
      ]
     },
     "execution_count": 42,
     "metadata": {},
     "output_type": "execute_result"
    }
   ],
   "source": [
    "model = MlpSeparate()\n",
    "# load\n",
    "model.load_state_dict(torch.load('test.pt'))"
   ]
  },
  {
   "cell_type": "code",
   "execution_count": 43,
   "metadata": {},
   "outputs": [],
   "source": [
    "torch.set_printoptions(precision=15, sci_mode=False)"
   ]
  },
  {
   "cell_type": "code",
   "execution_count": 44,
   "metadata": {},
   "outputs": [
    {
     "data": {
      "text/plain": [
       "tensor([[-0.012930031149011, -0.001350823133152,  0.005173190206362,\n",
       "          0.004375997139879,  0.001556734199947,  0.012896205650492,\n",
       "         -0.013287034370875,  0.004398340103247,  0.001213372412979,\n",
       "         -0.015685295074480,  0.031027841928699, -0.002897765298380,\n",
       "         -0.008842607965760,  0.000788311019257,  0.008520488607345,\n",
       "         -0.002693830312777]], grad_fn=<AddmmBackward0>)"
      ]
     },
     "execution_count": 44,
     "metadata": {},
     "output_type": "execute_result"
    }
   ],
   "source": [
    "obsb1 = torch.tensor([[1.000000000000000, 2.000000000000000, 2.000000000000000,   \n",
    "         2.000000000000000, 0.670000016689301, 0.340000003576279,\n",
    "         0.140000000596046, 0.109999999403954, 0.560000002384186,\n",
    "         0.959999978542328, 0.230000004172325, 0.949999988079071,\n",
    "         0.000000000000000, 0.670000016689301, 0.000000000000000,\n",
    "         0.560000002384186]])\n",
    "model.actor(obsb1)"
   ]
  },
  {
   "cell_type": "code",
   "execution_count": 45,
   "metadata": {},
   "outputs": [
    {
     "data": {
      "text/plain": [
       "tensor([[    -0.011655277289170,     -0.000043480378212,      0.005238374913708,\n",
       "              0.002273797044490,      0.001762097236874,      0.010387559115177,\n",
       "             -0.007799827173139,      0.003275219226455,      0.009683629636783,\n",
       "             -0.014490072681988,      0.024021823365105,     -0.004761678157189,\n",
       "             -0.005153438420307,      0.005546502476704,      0.008477908510767,\n",
       "             -0.002293286252387]], grad_fn=<AddmmBackward0>)"
      ]
     },
     "execution_count": 45,
     "metadata": {},
     "output_type": "execute_result"
    }
   ],
   "source": [
    "obsb2 =  torch.tensor([[2.000000000000000, 2.000000000000000, 2.000000000000000,\n",
    "         0.000000000000000, 0.670000016689301, 0.340000003576279,\n",
    "         0.140000000596046, 0.109999999403954, 0.560000002384186,\n",
    "         0.959999978542328, 0.230000004172325, 0.949999988079071,\n",
    "         0.109999999403954, 0.000000000000000, 0.949999988079071,\n",
    "         0.000000000000000]])\n",
    "model.actor(obsb2)"
   ]
  },
  {
   "cell_type": "code",
   "execution_count": 47,
   "metadata": {},
   "outputs": [
    {
     "data": {
      "text/plain": [
       "tensor([[    -0.012930031149011,     -0.001350823133152,      0.005173190206362,\n",
       "              0.004375997139879,      0.001556734199947,      0.012896205650492,\n",
       "             -0.013287034370875,      0.004398340103247,      0.001213372412979,\n",
       "             -0.015685295074480,      0.031027841928699,     -0.002897765298380,\n",
       "             -0.008842607965760,      0.000788311019257,      0.008520488607345,\n",
       "             -0.002693830312777],\n",
       "        [    -0.011655277289170,     -0.000043480378212,      0.005238374913708,\n",
       "              0.002273797044490,      0.001762097236874,      0.010387559115177,\n",
       "             -0.007799827173139,      0.003275219226455,      0.009683629636783,\n",
       "             -0.014490072681988,      0.024021823365105,     -0.004761678157189,\n",
       "             -0.005153438420307,      0.005546502476704,      0.008477908510767,\n",
       "             -0.002293286252387]], grad_fn=<AddmmBackward0>)"
      ]
     },
     "execution_count": 47,
     "metadata": {},
     "output_type": "execute_result"
    }
   ],
   "source": [
    "obs = torch.tensor([[1.000000000000000, 2.000000000000000, 2.000000000000000,   \n",
    "         2.000000000000000, 0.670000016689301, 0.340000003576279,\n",
    "         0.140000000596046, 0.109999999403954, 0.560000002384186,\n",
    "         0.959999978542328, 0.230000004172325, 0.949999988079071,\n",
    "         0.000000000000000, 0.670000016689301, 0.000000000000000,\n",
    "         0.560000002384186],[2.000000000000000, 2.000000000000000, 2.000000000000000,\n",
    "         0.000000000000000, 0.670000016689301, 0.340000003576279,\n",
    "         0.140000000596046, 0.109999999403954, 0.560000002384186,\n",
    "         0.959999978542328, 0.230000004172325, 0.949999988079071,\n",
    "         0.109999999403954, 0.000000000000000, 0.949999988079071,\n",
    "         0.000000000000000]])\n",
    "model.actor(obs)"
   ]
  },
  {
   "cell_type": "code",
   "execution_count": 46,
   "metadata": {},
   "outputs": [
    {
     "data": {
      "text/plain": [
       "tensor([[    -0.012930031149011,     -0.001350823133152,      0.005173190206362,\n",
       "              0.004375997139879,      0.001556734199947,      0.012896205650492,\n",
       "             -0.013287034370875,      0.004398340103247,      0.001213372412979,\n",
       "             -0.015685295074480,      0.031027841928699,     -0.002897765298380,\n",
       "             -0.008842607965760,      0.000788311019257,      0.008520488607345,\n",
       "             -0.002693830312777],\n",
       "        [    -0.011655277289170,     -0.000043480378212,      0.005238374913708,\n",
       "              0.002273797044490,      0.001762097236874,      0.010387559115177,\n",
       "             -0.007799827173139,      0.003275219226455,      0.009683629636783,\n",
       "             -0.014490072681988,      0.024021823365105,     -0.004761678157189,\n",
       "             -0.005153438420307,      0.005546502476704,      0.008477908510767,\n",
       "             -0.002293286252387]], grad_fn=<AddmmBackward0>)"
      ]
     },
     "execution_count": 46,
     "metadata": {},
     "output_type": "execute_result"
    }
   ],
   "source": [
    "obs = torch.tensor([[1.000000000000000, 2.000000000000000, 2.000000000000000,\n",
    "         2.000000000000000, 0.670000016689301, 0.340000003576279,\n",
    "         0.140000000596046, 0.109999999403954, 0.560000002384186,\n",
    "         0.959999978542328, 0.230000004172325, 0.949999988079071,\n",
    "         0.000000000000000, 0.670000016689301, 0.000000000000000,\n",
    "         0.560000002384186],\n",
    "        [2.000000000000000, 2.000000000000000, 2.000000000000000,\n",
    "         0.000000000000000, 0.670000016689301, 0.340000003576279,\n",
    "         0.140000000596046, 0.109999999403954, 0.560000002384186,\n",
    "         0.959999978542328, 0.230000004172325, 0.949999988079071,\n",
    "         0.109999999403954, 0.000000000000000, 0.949999988079071,\n",
    "         0.000000000000000]])\n",
    "model.actor(obs)"
   ]
  }
 ],
 "metadata": {
  "kernelspec": {
   "display_name": "torch",
   "language": "python",
   "name": "python3"
  },
  "language_info": {
   "codemirror_mode": {
    "name": "ipython",
    "version": 3
   },
   "file_extension": ".py",
   "mimetype": "text/x-python",
   "name": "python",
   "nbconvert_exporter": "python",
   "pygments_lexer": "ipython3",
   "version": "3.10.10"
  },
  "orig_nbformat": 4
 },
 "nbformat": 4,
 "nbformat_minor": 2
}
